import pandas as pd
import numpy as np
from sklearn.linear_model import LinearRegression
from sklearn.metrics import roc_auc_score
from scipy.stats import norm, rankdata

train_df = pd.read_csv('../input/train.csv')
test_df = pd.read_csv('../input/test.csv')

len_test = len(test_df)
print(len_test)

#Check for Null's
train_df.isnull().sum()

test_df.isnull().sum()

#No Null's is a rarity, and we see here that

target = train_df.pop('target')
print(train_df.head())
print(target.head())
len_train = len(train_df)
merged_df = pd.concat([train_df, test_df])
print(merged_df.head())
ID = merged_df.pop('ID_code')[len_train:]
print(merged_df.head())

from sklearn.model_selection import KFold

# Do linear regression
clf = LinearRegression().fit(merged_df.iloc[:len_train], target)
preds = clf.predict(merged_df.iloc[:len_train])
print('AUC: ', roc_auc_score(target, preds) )
print('R2: ', clf.score(merged_df.iloc[:len_train], target) )

reg = LinearRegression()
from sklearn.model_selection import StratifiedKFold

split=12
from sklearn.model_selection import KFold
X = merged_df.iloc[:len_train]
y = target
kf = KFold(n_splits=split,shuffle=True)
kf.get_n_splits(X)
print(kf)  
kf.split(X,y)

mean_auc = 0.0
i=0

for train_index, test_index in kf.split(X,y):    
    i = i+1
    X_train, X_test = X.iloc[train_index], X.iloc[test_index]
    y_train, y_test = y.iloc[train_index], y.iloc[test_index]
    
    reg.fit(X_train,y_train)
    pred_reg = reg.predict(X_test)
    
    roc_auc = roc_auc_score(y_test, pred_reg)
    print('AUC ',i,':', roc_auc_score(y_test, pred_reg) )
    #print('R2: ', reg.score(merged_df.iloc[:len_train], target) )
    
    mean_auc += roc_auc
print("Total Splits ",split)
print ("Mean AUC: %f" % (mean_auc/split) )
    

# Write submission file 
sub_preds_split = reg.predict(merged_df.iloc[len_train:])
out_df = pd.DataFrame({'ID_code': ID, 'target': sub_preds_split.astype('float32')})
out_df.to_csv('submission_Kfold_splits_params.csv', index=False)
