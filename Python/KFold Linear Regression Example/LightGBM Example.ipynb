import pandas as pd
import numpy as np
from sklearn.linear_model import LinearRegression
from sklearn.metrics import roc_auc_score
from scipy.stats import norm, rankdata

train_df = pd.read_csv('../input/train.csv')
test_df = pd.read_csv('../input/test.csv')

len_test = len(test_df)
print(len_test)

#Check for Null's
train_df.isnull().sum()

test_df.isnull().sum()

#No Null's is a rarity, and we see here that

target = train_df.pop('target')
print(train_df.head())
print(target.head())
len_train = len(train_df)
merged_df = pd.concat([train_df, test_df])
print(merged_df.head())
ID = merged_df.pop('ID_code')[len_train:]
print(merged_df.head())

from sklearn.model_selection import KFold

# Do linear regression
clf = LinearRegression().fit(merged_df.iloc[:len_train], target)
preds = clf.predict(merged_df.iloc[:len_train])
print('AUC: ', roc_auc_score(target, preds) )
print('R2: ', clf.score(merged_df.iloc[:len_train], target) )


#LIGHTGBM
from sklearn.model_selection import train_test_split
seed = 7
test_size = 0.25
X_train, X_test, y_train, y_test = train_test_split(merged_df.iloc[:len_train], target, test_size=test_size, random_state=seed)

import lightgbm as lgb

##Parameters to be tuned as per dataset

parameters = {
    'application': 'binary',
    'objective': 'binary',
    'metric': 'auc',
    'is_unbalance': 'true',
    'boosting': 'gbdt',
    'num_leaves': 31,
    'feature_fraction': 0.5,
    'bagging_fraction': 0.5,
    'bagging_freq': 20,
    'learning_rate': 0.05,
    'verbose': 0
}
n_estimators = 100

##Data needs to be in Dataset format
train_data = lgb.Dataset(X_train, label=y_train) 

test_data = lgb.Dataset(X_test, label=y_test)

model = lgb.train(parameters,
                       train_data,
                       valid_sets=test_data,
                       num_boost_round=5000,
                       early_stopping_rounds=200)

predict_lgb = model.predict(merged_df.iloc[len_train:])

out_df = pd.DataFrame({'ID_code': ID, 'target': predict_lgb.astype('float32')})
out_df.to_csv('submission_lgb.csv', index=False)