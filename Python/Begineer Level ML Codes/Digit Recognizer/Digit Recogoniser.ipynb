{
 "cells": [
  {
   "cell_type": "markdown",
   "metadata": {},
   "source": [
    "# Digit Recognizer Using Keras, Neural Network"
   ]
  },
  {
   "cell_type": "code",
   "execution_count": 2,
   "metadata": {
    "collapsed": true
   },
   "outputs": [],
   "source": [
    "\n",
    "import keras\n",
    "from keras.datasets import mnist\n",
    "from keras.models import Sequential\n",
    "from keras.layers import Dense, Dropout\n",
    "from keras.optimizers import RMSprop, SGD, Adagrad, Adadelta, Adam\n",
    "\n",
    "import pandas as pd"
   ]
  },
  {
   "cell_type": "code",
   "execution_count": 7,
   "metadata": {
    "collapsed": true
   },
   "outputs": [],
   "source": [
    "##Reading the Input Train dataset\n",
    "train = pd.read_csv(\"train.csv\")\n",
    "test = pd.read_csv(\"test.csv\")"
   ]
  },
  {
   "cell_type": "code",
   "execution_count": 8,
   "metadata": {},
   "outputs": [
    {
     "name": "stdout",
     "output_type": "stream",
     "text": [
      "   label  pixel0  pixel1  pixel2  pixel3  pixel4  pixel5  pixel6  pixel7  \\\n",
      "0      1       0       0       0       0       0       0       0       0   \n",
      "1      0       0       0       0       0       0       0       0       0   \n",
      "2      1       0       0       0       0       0       0       0       0   \n",
      "3      4       0       0       0       0       0       0       0       0   \n",
      "4      0       0       0       0       0       0       0       0       0   \n",
      "\n",
      "   pixel8    ...     pixel774  pixel775  pixel776  pixel777  pixel778  \\\n",
      "0       0    ...            0         0         0         0         0   \n",
      "1       0    ...            0         0         0         0         0   \n",
      "2       0    ...            0         0         0         0         0   \n",
      "3       0    ...            0         0         0         0         0   \n",
      "4       0    ...            0         0         0         0         0   \n",
      "\n",
      "   pixel779  pixel780  pixel781  pixel782  pixel783  \n",
      "0         0         0         0         0         0  \n",
      "1         0         0         0         0         0  \n",
      "2         0         0         0         0         0  \n",
      "3         0         0         0         0         0  \n",
      "4         0         0         0         0         0  \n",
      "\n",
      "[5 rows x 785 columns]\n",
      "(42000, 785)\n",
      "   pixel0  pixel1  pixel2  pixel3  pixel4  pixel5  pixel6  pixel7  pixel8  \\\n",
      "0       0       0       0       0       0       0       0       0       0   \n",
      "1       0       0       0       0       0       0       0       0       0   \n",
      "2       0       0       0       0       0       0       0       0       0   \n",
      "3       0       0       0       0       0       0       0       0       0   \n",
      "4       0       0       0       0       0       0       0       0       0   \n",
      "\n",
      "   pixel9    ...     pixel774  pixel775  pixel776  pixel777  pixel778  \\\n",
      "0       0    ...            0         0         0         0         0   \n",
      "1       0    ...            0         0         0         0         0   \n",
      "2       0    ...            0         0         0         0         0   \n",
      "3       0    ...            0         0         0         0         0   \n",
      "4       0    ...            0         0         0         0         0   \n",
      "\n",
      "   pixel779  pixel780  pixel781  pixel782  pixel783  \n",
      "0         0         0         0         0         0  \n",
      "1         0         0         0         0         0  \n",
      "2         0         0         0         0         0  \n",
      "3         0         0         0         0         0  \n",
      "4         0         0         0         0         0  \n",
      "\n",
      "[5 rows x 784 columns]\n",
      "(28000, 784)\n"
     ]
    }
   ],
   "source": [
    "##Data Observation\n",
    "print(train.head())\n",
    "print(train.shape)\n",
    "\n",
    "print(test.head())\n",
    "print(test.shape)"
   ]
  },
  {
   "cell_type": "code",
   "execution_count": 10,
   "metadata": {
    "collapsed": true
   },
   "outputs": [],
   "source": [
    "##Splitting the Train dataset into Train and Validate set for predicting the model accuracy\n",
    "from sklearn.model_selection import train_test_split"
   ]
  },
  {
   "cell_type": "code",
   "execution_count": 13,
   "metadata": {
    "collapsed": true
   },
   "outputs": [],
   "source": [
    "train_set, test_set = train_test_split(train, test_size=0.20,random_state=42)\n",
    "X_train_set = train_set.drop(['label'], axis=1) #Dropping 'label', the predicted variable \n",
    "y_train_set = train_set['label'] # keeping 'label', the predicted variable \n",
    "\n",
    "X_test_set = test_set.drop(['label'], axis=1)\n",
    "y_test_set = test_set['label']"
   ]
  },
  {
   "cell_type": "code",
   "execution_count": 25,
   "metadata": {
    "collapsed": true
   },
   "outputs": [],
   "source": [
    "train_image_array = X_train_set.as_matrix()\n",
    "train_label_array = y_train_set.as_matrix()\n",
    "\n",
    "test_image_array = X_test_set.as_matrix()\n",
    "test_label_array = y_test_set.as_matrix()"
   ]
  },
  {
   "cell_type": "code",
   "execution_count": 26,
   "metadata": {},
   "outputs": [
    {
     "name": "stdout",
     "output_type": "stream",
     "text": [
      "(33600, 784)\n"
     ]
    }
   ],
   "source": [
    "train_images = train_image_array.reshape(33600, 784)\n",
    "test_images = test_image_array.reshape(8400, 784)\n",
    "train_images = train_images.astype('float32')\n",
    "test_imagess = test_images.astype('float32')\n",
    "train_images = train_images/255\n",
    "test_images = test_images/255\n",
    "print(train_images.shape)"
   ]
  },
  {
   "cell_type": "code",
   "execution_count": 27,
   "metadata": {
    "collapsed": true
   },
   "outputs": [],
   "source": [
    "train_labels = keras.utils.to_categorical(train_label_array, 10)\n",
    "test_labels = keras.utils.to_categorical(test_label_array, 10)"
   ]
  },
  {
   "cell_type": "code",
   "execution_count": 28,
   "metadata": {},
   "outputs": [
    {
     "name": "stdout",
     "output_type": "stream",
     "text": [
      "[0. 0. 0. 0. 0. 1. 0. 0. 0. 0.]\n"
     ]
    },
    {
     "data": {
      "image/png": "[encoded data removed]",
      "text/plain": [
       "<matplotlib.figure.Figure at 0x1798e76da20>"
      ]
     },
     "metadata": {},
     "output_type": "display_data"
    },
    {
     "name": "stdout",
     "output_type": "stream",
     "text": [
      "[0. 0. 1. 0. 0. 0. 0. 0. 0. 0.]\n"
     ]
    },
    {
     "data": {
      "image/png": "[encoded data removed]",
      "text/plain": [
       "<matplotlib.figure.Figure at 0x1798e974ac8>"
      ]
     },
     "metadata": {},
     "output_type": "display_data"
    },
    {
     "name": "stdout",
     "output_type": "stream",
     "text": [
      "[0. 0. 0. 0. 0. 0. 0. 0. 1. 0.]\n"
     ]
    },
    {
     "data": {
      "image/png": "[encoded data removed]",
      "text/plain": [
       "<matplotlib.figure.Figure at 0x1798e9c7a20>"
      ]
     },
     "metadata": {},
     "output_type": "display_data"
    }
   ],
   "source": [
    "import matplotlib.pyplot as plt\n",
    "%matplotlib inline\n",
    "\n",
    "def display_sample(num):\n",
    "    #Print the one-hot array of this sample's label \n",
    "    print(train_labels[num]) #df_train_label_array\n",
    "    #Print the label converted back to a number\n",
    "    label = train_labels[num].argmax(axis=0) #df_train_label_array\n",
    "    #Reshape the 768 values to a 28x28 image\n",
    "    image = train_images[num].reshape([28,28])\n",
    "    #plt.subplot(4,4,i)\n",
    "    plt.title('Sample: %d  Label: %d' % (num, label))\n",
    "    plt.imshow(image, cmap=plt.get_cmap('gray_r'))\n",
    "    plt.show()\n",
    "    \n",
    "display_sample(1111) #the 1111st image in the Training set\n",
    "display_sample(2222) #the 2222nd image in the Training set\n",
    "display_sample(3333) #the 3333rd image in the Training set"
   ]
  },
  {
   "cell_type": "code",
   "execution_count": 29,
   "metadata": {
    "collapsed": true
   },
   "outputs": [],
   "source": [
    "##Neural Network"
   ]
  },
  {
   "cell_type": "code",
   "execution_count": 30,
   "metadata": {
    "collapsed": true
   },
   "outputs": [],
   "source": [
    "model = Sequential()\n",
    "model.add(Dense(512, activation='relu', input_shape=(784,))) \n",
    "model.add(Dropout(0.5))\n",
    "model.add(Dense(512, activation='relu')) \n",
    "model.add(Dropout(0.5))\n",
    "model.add(Dense(10, activation='softmax'))"
   ]
  },
  {
   "cell_type": "code",
   "execution_count": 31,
   "metadata": {},
   "outputs": [
    {
     "name": "stdout",
     "output_type": "stream",
     "text": [
      "_________________________________________________________________\n",
      "Layer (type)                 Output Shape              Param #   \n",
      "=================================================================\n",
      "dense_4 (Dense)              (None, 512)               401920    \n",
      "_________________________________________________________________\n",
      "dropout_3 (Dropout)          (None, 512)               0         \n",
      "_________________________________________________________________\n",
      "dense_5 (Dense)              (None, 512)               262656    \n",
      "_________________________________________________________________\n",
      "dropout_4 (Dropout)          (None, 512)               0         \n",
      "_________________________________________________________________\n",
      "dense_6 (Dense)              (None, 10)                5130      \n",
      "=================================================================\n",
      "Total params: 669,706\n",
      "Trainable params: 669,706\n",
      "Non-trainable params: 0\n",
      "_________________________________________________________________\n"
     ]
    }
   ],
   "source": [
    "model.summary()"
   ]
  },
  {
   "cell_type": "code",
   "execution_count": 32,
   "metadata": {
    "collapsed": true
   },
   "outputs": [],
   "source": [
    "model.compile(loss='categorical_crossentropy',\n",
    "              optimizer=Adam(),\n",
    "              metrics=['accuracy'])"
   ]
  },
  {
   "cell_type": "code",
   "execution_count": 36,
   "metadata": {},
   "outputs": [
    {
     "name": "stdout",
     "output_type": "stream",
     "text": [
      "Train on 33600 samples, validate on 8400 samples\n",
      "Epoch 1/50\n",
      " - 22s - loss: 0.0570 - acc: 0.9834 - val_loss: 0.0812 - val_acc: 0.9769\n",
      "Epoch 2/50\n",
      " - 21s - loss: 0.0563 - acc: 0.9827 - val_loss: 0.0967 - val_acc: 0.9750\n",
      "Epoch 3/50\n",
      " - 22s - loss: 0.0615 - acc: 0.9809 - val_loss: 0.0896 - val_acc: 0.9775\n",
      "Epoch 4/50\n",
      " - 22s - loss: 0.0524 - acc: 0.9843 - val_loss: 0.0949 - val_acc: 0.9761\n",
      "Epoch 5/50\n",
      " - 22s - loss: 0.0528 - acc: 0.9835 - val_loss: 0.0931 - val_acc: 0.9786\n",
      "Epoch 6/50\n",
      " - 23s - loss: 0.0504 - acc: 0.9840 - val_loss: 0.0897 - val_acc: 0.9787\n",
      "Epoch 7/50\n",
      " - 22s - loss: 0.0553 - acc: 0.9839 - val_loss: 0.0908 - val_acc: 0.9771\n",
      "Epoch 8/50\n",
      " - 22s - loss: 0.0472 - acc: 0.9855 - val_loss: 0.0906 - val_acc: 0.9786\n",
      "Epoch 9/50\n",
      " - 21s - loss: 0.0546 - acc: 0.9847 - val_loss: 0.0946 - val_acc: 0.9782\n",
      "Epoch 10/50\n",
      " - 21s - loss: 0.0525 - acc: 0.9848 - val_loss: 0.0978 - val_acc: 0.9793\n",
      "Epoch 11/50\n",
      " - 24s - loss: 0.0539 - acc: 0.9847 - val_loss: 0.1001 - val_acc: 0.9774\n",
      "Epoch 12/50\n",
      " - 25s - loss: 0.0510 - acc: 0.9848 - val_loss: 0.0871 - val_acc: 0.9794\n",
      "Epoch 13/50\n",
      " - 22s - loss: 0.0454 - acc: 0.9864 - val_loss: 0.0936 - val_acc: 0.9788\n",
      "Epoch 14/50\n",
      " - 22s - loss: 0.0562 - acc: 0.9836 - val_loss: 0.0864 - val_acc: 0.9799\n",
      "Epoch 15/50\n",
      " - 22s - loss: 0.0444 - acc: 0.9873 - val_loss: 0.0931 - val_acc: 0.9795\n",
      "Epoch 16/50\n",
      " - 22s - loss: 0.0478 - acc: 0.9866 - val_loss: 0.0906 - val_acc: 0.9802\n",
      "Epoch 17/50\n",
      " - 22s - loss: 0.0451 - acc: 0.9872 - val_loss: 0.0992 - val_acc: 0.9789\n",
      "Epoch 18/50\n",
      " - 22s - loss: 0.0490 - acc: 0.9863 - val_loss: 0.0925 - val_acc: 0.9790\n",
      "Epoch 19/50\n",
      " - 22s - loss: 0.0497 - acc: 0.9862 - val_loss: 0.1025 - val_acc: 0.9775\n",
      "Epoch 20/50\n",
      " - 22s - loss: 0.0451 - acc: 0.9878 - val_loss: 0.1097 - val_acc: 0.9770\n",
      "Epoch 21/50\n",
      " - 22s - loss: 0.0436 - acc: 0.9876 - val_loss: 0.0933 - val_acc: 0.9799\n",
      "Epoch 22/50\n",
      " - 22s - loss: 0.0416 - acc: 0.9879 - val_loss: 0.1100 - val_acc: 0.9798\n",
      "Epoch 23/50\n",
      " - 22s - loss: 0.0451 - acc: 0.9876 - val_loss: 0.1062 - val_acc: 0.9769\n",
      "Epoch 24/50\n",
      " - 22s - loss: 0.0476 - acc: 0.9872 - val_loss: 0.1030 - val_acc: 0.9777\n",
      "Epoch 25/50\n",
      " - 22s - loss: 0.0448 - acc: 0.9871 - val_loss: 0.1064 - val_acc: 0.9783\n",
      "Epoch 26/50\n",
      " - 22s - loss: 0.0401 - acc: 0.9899 - val_loss: 0.1023 - val_acc: 0.9802\n",
      "Epoch 27/50\n",
      " - 22s - loss: 0.0479 - acc: 0.9877 - val_loss: 0.1056 - val_acc: 0.9794\n",
      "Epoch 28/50\n",
      " - 22s - loss: 0.0462 - acc: 0.9876 - val_loss: 0.1111 - val_acc: 0.9776\n",
      "Epoch 29/50\n",
      " - 22s - loss: 0.0436 - acc: 0.9886 - val_loss: 0.0933 - val_acc: 0.9806\n",
      "Epoch 30/50\n",
      " - 22s - loss: 0.0429 - acc: 0.9882 - val_loss: 0.1120 - val_acc: 0.9775\n",
      "Epoch 31/50\n",
      " - 22s - loss: 0.0466 - acc: 0.9882 - val_loss: 0.1086 - val_acc: 0.9782\n",
      "Epoch 32/50\n",
      " - 22s - loss: 0.0422 - acc: 0.9881 - val_loss: 0.1126 - val_acc: 0.9788\n",
      "Epoch 33/50\n",
      " - 22s - loss: 0.0416 - acc: 0.9886 - val_loss: 0.1082 - val_acc: 0.9776\n",
      "Epoch 34/50\n",
      " - 22s - loss: 0.0392 - acc: 0.9893 - val_loss: 0.1063 - val_acc: 0.9805\n",
      "Epoch 35/50\n",
      " - 22s - loss: 0.0414 - acc: 0.9891 - val_loss: 0.1120 - val_acc: 0.9786\n",
      "Epoch 36/50\n",
      " - 22s - loss: 0.0439 - acc: 0.9888 - val_loss: 0.0993 - val_acc: 0.9796\n",
      "Epoch 37/50\n",
      " - 22s - loss: 0.0363 - acc: 0.9902 - val_loss: 0.1008 - val_acc: 0.9808\n",
      "Epoch 38/50\n",
      " - 22s - loss: 0.0421 - acc: 0.9890 - val_loss: 0.1224 - val_acc: 0.9771\n",
      "Epoch 39/50\n",
      " - 22s - loss: 0.0412 - acc: 0.9894 - val_loss: 0.1293 - val_acc: 0.9765\n",
      "Epoch 40/50\n",
      " - 22s - loss: 0.0377 - acc: 0.9901 - val_loss: 0.1108 - val_acc: 0.9805\n",
      "Epoch 41/50\n",
      " - 22s - loss: 0.0412 - acc: 0.9890 - val_loss: 0.1108 - val_acc: 0.9789\n",
      "Epoch 42/50\n",
      " - 22s - loss: 0.0400 - acc: 0.9904 - val_loss: 0.1077 - val_acc: 0.9792\n",
      "Epoch 43/50\n",
      " - 24s - loss: 0.0419 - acc: 0.9894 - val_loss: 0.0999 - val_acc: 0.9807\n",
      "Epoch 44/50\n",
      " - 22s - loss: 0.0356 - acc: 0.9909 - val_loss: 0.1168 - val_acc: 0.9798\n",
      "Epoch 45/50\n",
      " - 22s - loss: 0.0372 - acc: 0.9899 - val_loss: 0.1118 - val_acc: 0.9798\n",
      "Epoch 46/50\n",
      " - 22s - loss: 0.0391 - acc: 0.9909 - val_loss: 0.1193 - val_acc: 0.9792\n",
      "Epoch 47/50\n",
      " - 22s - loss: 0.0404 - acc: 0.9900 - val_loss: 0.1215 - val_acc: 0.9793\n",
      "Epoch 48/50\n",
      " - 22s - loss: 0.0369 - acc: 0.9911 - val_loss: 0.1203 - val_acc: 0.9801\n",
      "Epoch 49/50\n",
      " - 22s - loss: 0.0460 - acc: 0.9891 - val_loss: 0.1212 - val_acc: 0.9788\n",
      "Epoch 50/50\n",
      " - 22s - loss: 0.0367 - acc: 0.9910 - val_loss: 0.1183 - val_acc: 0.9800\n"
     ]
    }
   ],
   "source": [
    "history = model.fit(train_images, train_labels,\n",
    "                    batch_size=50, \n",
    "                    epochs=50, \n",
    "                    verbose=2,\n",
    "                    validation_data=(test_images, test_labels))"
   ]
  },
  {
   "cell_type": "code",
   "execution_count": 34,
   "metadata": {},
   "outputs": [
    {
     "name": "stdout",
     "output_type": "stream",
     "text": [
      "Test loss: 0.07945407435641669\n",
      "Test accuracy: 0.9798809523809524\n"
     ]
    }
   ],
   "source": [
    "## Epochs - 20\n",
    "score = model.evaluate(test_images, test_labels, verbose=0)\n",
    "print('Test loss:', score[0])\n",
    "print('Test accuracy:', score[1])"
   ]
  },
  {
   "cell_type": "code",
   "execution_count": 35,
   "metadata": {
    "collapsed": true
   },
   "outputs": [],
   "source": [
    "predictions = model.predict_classes(test, verbose=0)\n",
    "\n",
    "submissions=pd.DataFrame({\"ImageId\": list(range(1,len(predictions)+1)),\n",
    "                         \"Label\": predictions})\n",
    "submissions.to_csv(\"DR.csv\", index=False, header=True)"
   ]
  },
  {
   "cell_type": "code",
   "execution_count": 37,
   "metadata": {},
   "outputs": [
    {
     "name": "stdout",
     "output_type": "stream",
     "text": [
      "Test loss: 0.11830423217389174\n",
      "Test accuracy: 0.98\n"
     ]
    }
   ],
   "source": [
    "## Epochs 50\n",
    "## Epochs - 20\n",
    "score = model.evaluate(test_images, test_labels, verbose=0)\n",
    "print('Test loss:', score[0])\n",
    "print('Test accuracy:', score[1])"
   ]
  },
  {
   "cell_type": "code",
   "execution_count": 38,
   "metadata": {
    "collapsed": true
   },
   "outputs": [],
   "source": [
    "predictions = model.predict_classes(test, verbose=0)\n",
    "\n",
    "submissions=pd.DataFrame({\"ImageId\": list(range(1,len(predictions)+1)),\n",
    "                         \"Label\": predictions})\n",
    "submissions.to_csv(\"DR1.csv\", index=False, header=True)"
   ]
  },
  {
   "cell_type": "code",
   "execution_count": null,
   "metadata": {
    "collapsed": true
   },
   "outputs": [],
   "source": []
  }
 ],
 "metadata": {
  "kernelspec": {
   "display_name": "Python 3",
   "language": "python",
   "name": "python3"
  },
  "language_info": {
   "codemirror_mode": {
    "name": "ipython",
    "version": 3
   },
   "file_extension": ".py",
   "mimetype": "text/x-python",
   "name": "python",
   "nbconvert_exporter": "python",
   "pygments_lexer": "ipython3",
   "version": "3.6.3"
  }
 },
 "nbformat": 4,
 "nbformat_minor": 2
}
