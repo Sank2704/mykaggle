{
 "cells": [
  {
   "cell_type": "code",
   "execution_count": 1,
   "metadata": {
    "collapsed": true
   },
   "outputs": [],
   "source": [
    "#Import al the required Libraries\n",
    "import pandas as pd\n",
    "import numpy as np\n",
    "import matplotlib.pyplot as plt\n",
    "import seaborn as sns\n",
    "%matplotlib inline\n",
    "import statsmodels.formula.api as sm\n",
    "import scipy, scipy.stats\n",
    "import math \n",
    "from collections import Counter\n"
   ]
  },
  {
   "cell_type": "code",
   "execution_count": 2,
   "metadata": {
    "collapsed": true
   },
   "outputs": [],
   "source": [
    "#Read the data from file\n",
    "df = pd.read_csv(\"C:\\\\Users\\\\SAN\\\\Desktop\\\\Imarticus Screenshots\\\\Python Codes\\\\Project  5 and 6\\\\LGD\\\\LGD_Data.csv\")"
   ]
  },
  {
   "cell_type": "code",
   "execution_count": 3,
   "metadata": {},
   "outputs": [
    {
     "name": "stdout",
     "output_type": "stream",
     "text": [
      "<class 'pandas.core.frame.DataFrame'>\n",
      "RangeIndex: 15290 entries, 0 to 15289\n",
      "Data columns (total 7 columns):\n",
      "Ac_No                  15290 non-null int64\n",
      "Age                    15290 non-null int64\n",
      "Years of Experience    15290 non-null int64\n",
      "Number of Vehicles     15290 non-null int64\n",
      "Gender                 15290 non-null object\n",
      "Married                15290 non-null object\n",
      "Losses in Thousands    15290 non-null float64\n",
      "dtypes: float64(1), int64(4), object(2)\n",
      "memory usage: 836.2+ KB\n"
     ]
    }
   ],
   "source": [
    "df.describe()\n",
    "df.info()"
   ]
  },
  {
   "cell_type": "code",
   "execution_count": 4,
   "metadata": {},
   "outputs": [
    {
     "data": {
      "text/plain": [
       "<matplotlib.axes._subplots.AxesSubplot at 0x1d7d59f7358>"
      ]
     },
     "execution_count": 4,
     "metadata": {},
     "output_type": "execute_result"
    },
    {
     "data": {
      "image/png": "[encoded data removed]",
      "text/plain": [
       "<matplotlib.figure.Figure at 0x1d7d59bacf8>"
      ]
     },
     "metadata": {},
     "output_type": "display_data"
    }
   ],
   "source": [
    "sns.distplot(df['Losses in Thousands'], kde=False, bins = 40)\n",
    "#Below plot wll show it is right skewed\n",
    "#But as per our assumptions,dependent variable should be normally distributed"
   ]
  },
  {
   "cell_type": "code",
   "execution_count": 5,
   "metadata": {
    "collapsed": true
   },
   "outputs": [],
   "source": [
    "#To mae it normally distributed we should take the log and try\n",
    "#Taking the log of the coulmn and storing it in a temporary varable \n",
    "#sns.distplot(map(math.log(df['Losses in Thousands'])),kde=False,bins=50)\n",
    "log_losses = np.log(df['Losses in Thousands'])"
   ]
  },
  {
   "cell_type": "code",
   "execution_count": 6,
   "metadata": {},
   "outputs": [
    {
     "data": {
      "text/plain": [
       "<matplotlib.axes._subplots.AxesSubplot at 0x1d7d59ba908>"
      ]
     },
     "execution_count": 6,
     "metadata": {},
     "output_type": "execute_result"
    },
    {
     "data": {
      "image/png": "[encoded data removed]",
      "text/plain": [
       "<matplotlib.figure.Figure at 0x1d7d5d117f0>"
      ]
     },
     "metadata": {},
     "output_type": "display_data"
    }
   ],
   "source": [
    "#Trying to plot the temp variable\n",
    "sns.distplot(log_losses,kde=False,bins=50)\n",
    "#The plot is not skewed anymore, so we can proceed"
   ]
  },
  {
   "cell_type": "code",
   "execution_count": 7,
   "metadata": {},
   "outputs": [
    {
     "name": "stdout",
     "output_type": "stream",
     "text": [
      "   M\n",
      "0  1\n",
      "1  0\n",
      "2  1\n",
      "3  0\n",
      "4  1\n"
     ]
    },
    {
     "data": {
      "text/html": [
       "<div>\n",
       "<style>\n",
       "    .dataframe thead tr:only-child th {\n",
       "        text-align: right;\n",
       "    }\n",
       "\n",
       "    .dataframe thead th {\n",
       "        text-align: left;\n",
       "    }\n",
       "\n",
       "    .dataframe tbody tr th {\n",
       "        vertical-align: top;\n",
       "    }\n",
       "</style>\n",
       "<table border=\"1\" class=\"dataframe\">\n",
       "  <thead>\n",
       "    <tr style=\"text-align: right;\">\n",
       "      <th></th>\n",
       "      <th>Ac_No</th>\n",
       "      <th>Age</th>\n",
       "      <th>Years of Experience</th>\n",
       "      <th>Number of Vehicles</th>\n",
       "      <th>Gender</th>\n",
       "      <th>Married</th>\n",
       "      <th>Losses in Thousands</th>\n",
       "      <th>M</th>\n",
       "      <th>Single</th>\n",
       "    </tr>\n",
       "  </thead>\n",
       "  <tbody>\n",
       "    <tr>\n",
       "      <th>0</th>\n",
       "      <td>150024</td>\n",
       "      <td>24</td>\n",
       "      <td>5</td>\n",
       "      <td>1</td>\n",
       "      <td>M</td>\n",
       "      <td>Married</td>\n",
       "      <td>203.319595</td>\n",
       "      <td>1</td>\n",
       "      <td>0</td>\n",
       "    </tr>\n",
       "    <tr>\n",
       "      <th>1</th>\n",
       "      <td>144880</td>\n",
       "      <td>31</td>\n",
       "      <td>10</td>\n",
       "      <td>1</td>\n",
       "      <td>F</td>\n",
       "      <td>Single</td>\n",
       "      <td>402.197302</td>\n",
       "      <td>0</td>\n",
       "      <td>1</td>\n",
       "    </tr>\n",
       "    <tr>\n",
       "      <th>2</th>\n",
       "      <td>133742</td>\n",
       "      <td>56</td>\n",
       "      <td>37</td>\n",
       "      <td>1</td>\n",
       "      <td>M</td>\n",
       "      <td>Married</td>\n",
       "      <td>553.132096</td>\n",
       "      <td>1</td>\n",
       "      <td>0</td>\n",
       "    </tr>\n",
       "    <tr>\n",
       "      <th>3</th>\n",
       "      <td>151282</td>\n",
       "      <td>52</td>\n",
       "      <td>31</td>\n",
       "      <td>1</td>\n",
       "      <td>F</td>\n",
       "      <td>Married</td>\n",
       "      <td>292.430579</td>\n",
       "      <td>0</td>\n",
       "      <td>0</td>\n",
       "    </tr>\n",
       "    <tr>\n",
       "      <th>4</th>\n",
       "      <td>174407</td>\n",
       "      <td>20</td>\n",
       "      <td>3</td>\n",
       "      <td>1</td>\n",
       "      <td>M</td>\n",
       "      <td>Single</td>\n",
       "      <td>246.540576</td>\n",
       "      <td>1</td>\n",
       "      <td>1</td>\n",
       "    </tr>\n",
       "  </tbody>\n",
       "</table>\n",
       "</div>"
      ],
      "text/plain": [
       "    Ac_No  Age  Years of Experience  Number of Vehicles Gender  Married  \\\n",
       "0  150024   24                    5                   1      M  Married   \n",
       "1  144880   31                   10                   1      F   Single   \n",
       "2  133742   56                   37                   1      M  Married   \n",
       "3  151282   52                   31                   1      F  Married   \n",
       "4  174407   20                    3                   1      M   Single   \n",
       "\n",
       "   Losses in Thousands  M  Single  \n",
       "0           203.319595  1       0  \n",
       "1           402.197302  0       1  \n",
       "2           553.132096  1       0  \n",
       "3           292.430579  0       0  \n",
       "4           246.540576  1       1  "
      ]
     },
     "execution_count": 7,
     "metadata": {},
     "output_type": "execute_result"
    }
   ],
   "source": [
    "#Simple Model Building\n",
    "#Creating the Dummy Variables\n",
    "#For Gender\n",
    "dummy_var=pd.get_dummies(df['Gender'],drop_first=True)\n",
    "print( (dummy_var.head()))\n",
    "dummy_var1=pd.get_dummies(df['Gender'],drop_first=True)\n",
    "\n",
    "#For Married\n",
    "dummy_var2=pd.get_dummies(df['Married'],drop_first=True)\n",
    "dummy_var2.head()\n",
    "\n",
    "# merge the above 2 dataframe with the original dataframe df\n",
    "df_new=pd.concat([df,dummy_var1,dummy_var2],axis=1)\n",
    "df_new.head()"
   ]
  },
  {
   "cell_type": "code",
   "execution_count": 9,
   "metadata": {},
   "outputs": [
    {
     "data": {
      "text/html": [
       "<div>\n",
       "<style>\n",
       "    .dataframe thead tr:only-child th {\n",
       "        text-align: right;\n",
       "    }\n",
       "\n",
       "    .dataframe thead th {\n",
       "        text-align: left;\n",
       "    }\n",
       "\n",
       "    .dataframe tbody tr th {\n",
       "        vertical-align: top;\n",
       "    }\n",
       "</style>\n",
       "<table border=\"1\" class=\"dataframe\">\n",
       "  <thead>\n",
       "    <tr style=\"text-align: right;\">\n",
       "      <th></th>\n",
       "      <th>Ac_No</th>\n",
       "      <th>Age</th>\n",
       "      <th>Years of Experience</th>\n",
       "      <th>Number of Vehicles</th>\n",
       "      <th>Losses in Thousands</th>\n",
       "      <th>M</th>\n",
       "      <th>Single</th>\n",
       "    </tr>\n",
       "  </thead>\n",
       "  <tbody>\n",
       "    <tr>\n",
       "      <th>0</th>\n",
       "      <td>150024</td>\n",
       "      <td>24</td>\n",
       "      <td>5</td>\n",
       "      <td>1</td>\n",
       "      <td>203.319595</td>\n",
       "      <td>1</td>\n",
       "      <td>0</td>\n",
       "    </tr>\n",
       "    <tr>\n",
       "      <th>1</th>\n",
       "      <td>144880</td>\n",
       "      <td>31</td>\n",
       "      <td>10</td>\n",
       "      <td>1</td>\n",
       "      <td>402.197302</td>\n",
       "      <td>0</td>\n",
       "      <td>1</td>\n",
       "    </tr>\n",
       "    <tr>\n",
       "      <th>2</th>\n",
       "      <td>133742</td>\n",
       "      <td>56</td>\n",
       "      <td>37</td>\n",
       "      <td>1</td>\n",
       "      <td>553.132096</td>\n",
       "      <td>1</td>\n",
       "      <td>0</td>\n",
       "    </tr>\n",
       "    <tr>\n",
       "      <th>3</th>\n",
       "      <td>151282</td>\n",
       "      <td>52</td>\n",
       "      <td>31</td>\n",
       "      <td>1</td>\n",
       "      <td>292.430579</td>\n",
       "      <td>0</td>\n",
       "      <td>0</td>\n",
       "    </tr>\n",
       "    <tr>\n",
       "      <th>4</th>\n",
       "      <td>174407</td>\n",
       "      <td>20</td>\n",
       "      <td>3</td>\n",
       "      <td>1</td>\n",
       "      <td>246.540576</td>\n",
       "      <td>1</td>\n",
       "      <td>1</td>\n",
       "    </tr>\n",
       "  </tbody>\n",
       "</table>\n",
       "</div>"
      ],
      "text/plain": [
       "    Ac_No  Age  Years of Experience  Number of Vehicles  Losses in Thousands  \\\n",
       "0  150024   24                    5                   1           203.319595   \n",
       "1  144880   31                   10                   1           402.197302   \n",
       "2  133742   56                   37                   1           553.132096   \n",
       "3  151282   52                   31                   1           292.430579   \n",
       "4  174407   20                    3                   1           246.540576   \n",
       "\n",
       "   M  Single  \n",
       "0  1       0  \n",
       "1  0       1  \n",
       "2  1       0  \n",
       "3  0       0  \n",
       "4  1       1  "
      ]
     },
     "execution_count": 9,
     "metadata": {},
     "output_type": "execute_result"
    }
   ],
   "source": [
    "#Removing Married and gender Columns. We will use their dummies instead\n",
    "df_new2=df_new.drop(['Gender','Married'],axis=1)\n",
    "df_new2.head()"
   ]
  },
  {
   "cell_type": "code",
   "execution_count": 22,
   "metadata": {},
   "outputs": [
    {
     "name": "stdout",
     "output_type": "stream",
     "text": [
      "539.656523011\n",
      "[  -6.14900704   -1.79059246   97.23493268  136.7922503 ]\n",
      "0.295052575449\n",
      "148.508192122\n",
      "148.508192122\n"
     ]
    }
   ],
   "source": [
    "#Model Building \n",
    "x=df_new2[[\"Age\",\"Number of Vehicles\",\"M\",\"Single\"]]\n",
    "y=df_new2[\"Losses in Thousands\"]\n",
    "#Splitting original data to train and test\n",
    "from sklearn.cross_validation import train_test_split\n",
    "\n",
    "x_train,x_test,y_train,y_test=train_test_split(x,y,test_size=0.3,random_state=1)\n",
    "\n",
    "\n",
    "from sklearn.linear_model import LinearRegression \n",
    "lm=LinearRegression() #call the function\n",
    "lm.fit(x_train,y_train)# fit the model\n",
    "\n",
    "\n",
    "print(lm.intercept_) # see the intercept\n",
    "print(lm.coef_)# see the betas\n",
    "#see the error parameters\n",
    "from sklearn import metrics\n",
    "#make prediction\n",
    "pred=lm.predict(x_test)\n",
    "\n",
    "from sklearn.metrics import r2_score\n",
    "print (r2_score(y_test, pred))\n",
    "print (metrics.mean_absolute_error(y_test,pred))\n",
    "print (metrics.mean_absolute_error(y_test,pred))"
   ]
  },
  {
   "cell_type": "code",
   "execution_count": 11,
   "metadata": {
    "collapsed": true
   },
   "outputs": [],
   "source": [
    "#so the linear regression equation we get is\n",
    "#----loss in thousands=539.65-6.14*Age-1.79*Number of Vehicles+97*M+136*Single\n",
    "#Improving the Model For Frist Time"
   ]
  },
  {
   "cell_type": "code",
   "execution_count": 12,
   "metadata": {},
   "outputs": [
    {
     "name": "stdout",
     "output_type": "stream",
     "text": [
      "    Ac_No  Age  Years of Experience  Number of Vehicles  Losses in Thousands  \\\n",
      "0  150024   24                    5                   1           203.319595   \n",
      "1  144880   31                   10                   1           402.197302   \n",
      "2  133742   56                   37                   1           553.132096   \n",
      "3  151282   52                   31                   1           292.430579   \n",
      "4  174407   20                    3                   1           246.540576   \n",
      "\n",
      "   M  Single  \n",
      "0  1       0  \n",
      "1  0       1  \n",
      "2  1       0  \n",
      "3  0       0  \n",
      "4  1       1  \n"
     ]
    },
    {
     "data": {
      "text/html": [
       "<div>\n",
       "<style>\n",
       "    .dataframe thead tr:only-child th {\n",
       "        text-align: right;\n",
       "    }\n",
       "\n",
       "    .dataframe thead th {\n",
       "        text-align: left;\n",
       "    }\n",
       "\n",
       "    .dataframe tbody tr th {\n",
       "        vertical-align: top;\n",
       "    }\n",
       "</style>\n",
       "<table border=\"1\" class=\"dataframe\">\n",
       "  <thead>\n",
       "    <tr style=\"text-align: right;\">\n",
       "      <th></th>\n",
       "      <th>Ac_No</th>\n",
       "      <th>Age</th>\n",
       "      <th>Years of Experience</th>\n",
       "      <th>Number of Vehicles</th>\n",
       "      <th>Losses in Thousands</th>\n",
       "      <th>M</th>\n",
       "      <th>Single</th>\n",
       "      <th>AgeCategory</th>\n",
       "      <th>Logy</th>\n",
       "      <th>Old</th>\n",
       "      <th>Young</th>\n",
       "    </tr>\n",
       "  </thead>\n",
       "  <tbody>\n",
       "    <tr>\n",
       "      <th>0</th>\n",
       "      <td>150024</td>\n",
       "      <td>24</td>\n",
       "      <td>5</td>\n",
       "      <td>1</td>\n",
       "      <td>203.319595</td>\n",
       "      <td>1</td>\n",
       "      <td>0</td>\n",
       "      <td>Young</td>\n",
       "      <td>5.314779</td>\n",
       "      <td>0</td>\n",
       "      <td>1</td>\n",
       "    </tr>\n",
       "    <tr>\n",
       "      <th>1</th>\n",
       "      <td>144880</td>\n",
       "      <td>31</td>\n",
       "      <td>10</td>\n",
       "      <td>1</td>\n",
       "      <td>402.197302</td>\n",
       "      <td>0</td>\n",
       "      <td>1</td>\n",
       "      <td>MiddleAged</td>\n",
       "      <td>5.996943</td>\n",
       "      <td>0</td>\n",
       "      <td>0</td>\n",
       "    </tr>\n",
       "    <tr>\n",
       "      <th>2</th>\n",
       "      <td>133742</td>\n",
       "      <td>56</td>\n",
       "      <td>37</td>\n",
       "      <td>1</td>\n",
       "      <td>553.132096</td>\n",
       "      <td>1</td>\n",
       "      <td>0</td>\n",
       "      <td>MiddleAged</td>\n",
       "      <td>6.315597</td>\n",
       "      <td>0</td>\n",
       "      <td>0</td>\n",
       "    </tr>\n",
       "    <tr>\n",
       "      <th>3</th>\n",
       "      <td>151282</td>\n",
       "      <td>52</td>\n",
       "      <td>31</td>\n",
       "      <td>1</td>\n",
       "      <td>292.430579</td>\n",
       "      <td>0</td>\n",
       "      <td>0</td>\n",
       "      <td>MiddleAged</td>\n",
       "      <td>5.678227</td>\n",
       "      <td>0</td>\n",
       "      <td>0</td>\n",
       "    </tr>\n",
       "    <tr>\n",
       "      <th>4</th>\n",
       "      <td>174407</td>\n",
       "      <td>20</td>\n",
       "      <td>3</td>\n",
       "      <td>1</td>\n",
       "      <td>246.540576</td>\n",
       "      <td>1</td>\n",
       "      <td>1</td>\n",
       "      <td>Young</td>\n",
       "      <td>5.507527</td>\n",
       "      <td>0</td>\n",
       "      <td>1</td>\n",
       "    </tr>\n",
       "  </tbody>\n",
       "</table>\n",
       "</div>"
      ],
      "text/plain": [
       "    Ac_No  Age  Years of Experience  Number of Vehicles  Losses in Thousands  \\\n",
       "0  150024   24                    5                   1           203.319595   \n",
       "1  144880   31                   10                   1           402.197302   \n",
       "2  133742   56                   37                   1           553.132096   \n",
       "3  151282   52                   31                   1           292.430579   \n",
       "4  174407   20                    3                   1           246.540576   \n",
       "\n",
       "   M  Single AgeCategory      Logy  Old  Young  \n",
       "0  1       0       Young  5.314779    0      1  \n",
       "1  0       1  MiddleAged  5.996943    0      0  \n",
       "2  1       0  MiddleAged  6.315597    0      0  \n",
       "3  0       0  MiddleAged  5.678227    0      0  \n",
       "4  1       1       Young  5.507527    0      1  "
      ]
     },
     "execution_count": 12,
     "metadata": {},
     "output_type": "execute_result"
    }
   ],
   "source": [
    "print (df_new2.head())\n",
    "df_new2[\"AgeCategory\"]=[\"Young\" if df_new2['Age'][i]<=28 else \"MiddleAged\" if 28<df_new2['Age'][i]<58 else \"Old\" for i in range(len(df_new2))]\n",
    "df_new2['Logy']=list(map(math.log,df_new2['Losses in Thousands']))\n",
    "# map(anyfunction, list)--> to apply the function on each element in the list\n",
    "Counter(df_new2['AgeCategory'])\n",
    "# we wil have to convert the AgeCategory to dummy varables\n",
    "dummy_var3=pd.get_dummies(df_new2['AgeCategory'],drop_first=True)\n",
    "df_new3=pd.concat([df_new2,dummy_var3],axis=1)\n",
    "df_new3.head()"
   ]
  },
  {
   "cell_type": "code",
   "execution_count": 13,
   "metadata": {},
   "outputs": [
    {
     "data": {
      "text/plain": [
       "Counter({'MiddleAged': 5425, 'Old': 4708, 'Young': 5157})"
      ]
     },
     "execution_count": 13,
     "metadata": {},
     "output_type": "execute_result"
    }
   ],
   "source": [
    "Counter(df_new2['AgeCategory'])"
   ]
  },
  {
   "cell_type": "code",
   "execution_count": 15,
   "metadata": {
    "collapsed": true
   },
   "outputs": [],
   "source": [
    "#deicde the new x and y variables\n",
    "x=df_new3[[\"Age\",\"M\",\"Single\",\"Old\",\"Young\"]]\n",
    "y=df_new3[\"Logy\"]"
   ]
  },
  {
   "cell_type": "code",
   "execution_count": 16,
   "metadata": {
    "collapsed": true
   },
   "outputs": [],
   "source": [
    "#split the data into train and test\n",
    "from sklearn.cross_validation import train_test_split\n",
    "x_train,x_test,y_train,y_test=train_test_split(x,y,test_size=0.3,random_state=1)"
   ]
  },
  {
   "cell_type": "code",
   "execution_count": 17,
   "metadata": {},
   "outputs": [
    {
     "data": {
      "text/plain": [
       "LinearRegression(copy_X=True, fit_intercept=True, n_jobs=1, normalize=False)"
      ]
     },
     "execution_count": 17,
     "metadata": {},
     "output_type": "execute_result"
    }
   ],
   "source": [
    "from sklearn.linear_model import LinearRegression # import the functions\n",
    "lm=LinearRegression() #call the function\n",
    "lm.fit(x_train,y_train)# fit the model"
   ]
  },
  {
   "cell_type": "code",
   "execution_count": 27,
   "metadata": {},
   "outputs": [
    {
     "name": "stdout",
     "output_type": "stream",
     "text": [
      "0.295052575449\n",
      "148.508192122\n",
      "148.508192122\n",
      "148.508192122\n"
     ]
    }
   ],
   "source": [
    "#see the error parameters\n",
    "from sklearn import metrics\n",
    "#make prediction\n",
    "pred=lm.predict(x_test)\n",
    "metrics.mean_absolute_error(y_test,pred)\n",
    "from sklearn.metrics import r2_score\n",
    "print (r2_score(y_test, pred))\n",
    "# the r2 has improved\n",
    "print (metrics.mean_absolute_error(y_test,pred))\n",
    "print (metrics.mean_absolute_error(y_test,pred))\n",
    "print (metrics.mean_absolute_error(y_test,pred))"
   ]
  },
  {
   "cell_type": "code",
   "execution_count": 19,
   "metadata": {},
   "outputs": [
    {
     "name": "stdout",
     "output_type": "stream",
     "text": [
      "5.92784894026\n",
      "[-0.00550408  0.21257821  0.31651095 -0.70187767  0.02316753]\n"
     ]
    }
   ],
   "source": [
    "print(lm.intercept_) # see the intercept\n",
    "print(lm.coef_)# see the betas\n",
    "# now the equation will be\n",
    "#\"Age\",\"Number of Vehicles\",\"M\",\"Single\",\"Old\",\"Young\"\n",
    "#log(losses in Thousands)= 5.91-0.005*(Age)+0.005*(#ofVehicles)+\n",
    "#0.21*(Male)+0.31*(Single)-0.70*(Old)+0.02*(Young)"
   ]
  },
  {
   "cell_type": "code",
   "execution_count": 26,
   "metadata": {},
   "outputs": [
    {
     "name": "stdout",
     "output_type": "stream",
     "text": [
      "0.295052575449\n",
      "148.508192122\n"
     ]
    }
   ],
   "source": [
    "#see the error parameters\n",
    "from sklearn import metrics\n",
    "#make prediction\n",
    "pred=lm.predict(x_test)\n",
    "\n",
    "from sklearn.metrics import r2_score\n",
    "print (r2_score(y_test, pred))\n",
    "print (metrics.mean_absolute_error(y_test,pred1))"
   ]
  },
  {
   "cell_type": "code",
   "execution_count": 33,
   "metadata": {},
   "outputs": [
    {
     "data": {
      "text/plain": [
       "<matplotlib.axes._subplots.AxesSubplot at 0x26f4cc37390>"
      ]
     },
     "execution_count": 33,
     "metadata": {},
     "output_type": "execute_result"
    },
    {
     "data": {
      "image/png": "[encoded data removed]",
      "text/plain": [
       "<matplotlib.figure.Figure at 0x26f4ccd29b0>"
      ]
     },
     "metadata": {},
     "output_type": "display_data"
    }
   ],
   "source": [
    "#Improving the Model For Second Time\n",
    "sns.boxplot()\n",
    "sns.boxplot(x=\"Single\",y=\"Losses in Thousands\",data=df_new3,hue=\"M\")\n",
    "#this shows that sinle ppl & Male are the worst"
   ]
  },
  {
   "cell_type": "code",
   "execution_count": 35,
   "metadata": {},
   "outputs": [
    {
     "data": {
      "text/plain": [
       "0.0      12.534521\n",
       "0.1     121.935475\n",
       "0.2     194.819740\n",
       "0.3     259.726079\n",
       "0.4     313.793916\n",
       "0.5     354.937874\n",
       "0.6     398.667695\n",
       "0.7     453.550157\n",
       "0.8     538.022557\n",
       "0.9     685.036439\n",
       "1.0    3500.000000\n",
       "Name: Losses in Thousands, dtype: float64"
      ]
     },
     "execution_count": 35,
     "metadata": {},
     "output_type": "execute_result"
    }
   ],
   "source": [
    "df_new3['Losses in Thousands'].quantile([0, 0.1, 0.2, 0.3, 0.4, 0.5, 0.6, 0.7, 0.8, 0.9, 1])"
   ]
  },
  {
   "cell_type": "code",
   "execution_count": null,
   "metadata": {
    "collapsed": true
   },
   "outputs": [],
   "source": [
    "#Renoving the Outliers fro the data frame using the coulmn Losses in Thousands\n"
   ]
  }
 ],
 "metadata": {
  "kernelspec": {
   "display_name": "Python 3",
   "language": "python",
   "name": "python3"
  },
  "language_info": {
   "codemirror_mode": {
    "name": "ipython",
    "version": 3
   },
   "file_extension": ".py",
   "mimetype": "text/x-python",
   "name": "python",
   "nbconvert_exporter": "python",
   "pygments_lexer": "ipython3",
   "version": "3.6.3"
  }
 },
 "nbformat": 4,
 "nbformat_minor": 2
}
