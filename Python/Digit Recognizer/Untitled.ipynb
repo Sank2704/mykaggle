{
 "cells": [
  {
   "cell_type": "code",
   "execution_count": 1,
   "metadata": {},
   "outputs": [
    {
     "name": "stderr",
     "output_type": "stream",
     "text": [
      "Using TensorFlow backend.\n"
     ]
    }
   ],
   "source": [
    "import keras\n",
    "from keras.datasets import mnist\n",
    "from keras.models import Sequential\n",
    "from keras.layers import Dense, Dropout\n",
    "from keras.optimizers import RMSprop, SGD, Adagrad, Adadelta, Adam\n",
    "\n",
    "import pandas as pd"
   ]
  },
  {
   "cell_type": "code",
   "execution_count": 2,
   "metadata": {
    "collapsed": true
   },
   "outputs": [],
   "source": [
    "##Reading the Input Train dataset\n",
    "df_train = pd.read_csv(\"train.csv\")\n",
    "df_test = pd.read_csv(\"test.csv\")"
   ]
  },
  {
   "cell_type": "code",
   "execution_count": 3,
   "metadata": {
    "collapsed": true
   },
   "outputs": [],
   "source": [
    "from sklearn.model_selection import train_test_split # the needed split-function imported from scikit-learn\n",
    "\n",
    "train_set, test_set = train_test_split(df_train, test_size=0.20, random_state=42)\n",
    "\n",
    "X_train_set = train_set.drop(['label'], axis=1) #Dropping 'label', the predicted variable \n",
    "y_train_set = train_set['label'] # keeping 'label', the predicted variable \n",
    "\n",
    "X_test_set = test_set.drop(['label'], axis=1)\n",
    "y_test_set = test_set['label']\n",
    "\n",
    "# Double checking with the shape-function that the results are as expected:\n",
    "\n",
    "# X_train_set.shape = (33600, 784)\n",
    "# y_train_set.shape = (33600,)\n",
    "\n",
    "# X_test_set.shape = (8400, 784)\n",
    "# y_test_set.shape =n (8400,)"
   ]
  },
  {
   "cell_type": "code",
   "execution_count": 4,
   "metadata": {
    "collapsed": true
   },
   "outputs": [],
   "source": [
    "df_train_label_array = y_train_set.as_matrix() #creates a numpy array of the df\n",
    "df_train_image_array = X_train_set.as_matrix() #creates a numpy array of the df\n",
    "\n",
    "df_test_image_array = X_test_set.as_matrix()\n",
    "df_test_label_array = y_test_set.as_matrix()\n",
    "\n",
    "# Again, doubel checking with the shape-function that the results are as expected also for the numpy arrays:\n",
    "#df_train_label_array.shape # (33600,)\n",
    "#df_train_image_array.shape # (33600, 784)\n",
    "\n",
    "#df_test_image_array.shape # (8400, 784)\n",
    "#df_test_label_array.shape # (8400,)"
   ]
  },
  {
   "cell_type": "code",
   "execution_count": 7,
   "metadata": {},
   "outputs": [
    {
     "name": "stdout",
     "output_type": "stream",
     "text": [
      "(33600, 784)\n"
     ]
    }
   ],
   "source": [
    "train_images = df_train_image_array.reshape(33600, 784) #(33600, 784)\n",
    "test_images = df_test_image_array.reshape(8400, 784) # (8400, 784)\n",
    "train_images = train_images.astype('float32')\n",
    "test_images = test_images.astype('float32')\n",
    "train_images /= 255\n",
    "test_images /= 255\n",
    "#test_images\n",
    "print(train_images.shape)"
   ]
  },
  {
   "cell_type": "code",
   "execution_count": 8,
   "metadata": {
    "collapsed": true
   },
   "outputs": [],
   "source": [
    "train_labels = keras.utils.to_categorical(df_train_label_array, 10)\n",
    "test_labels = keras.utils.to_categorical(df_test_label_array, 10)"
   ]
  },
  {
   "cell_type": "code",
   "execution_count": 9,
   "metadata": {},
   "outputs": [
    {
     "name": "stdout",
     "output_type": "stream",
     "text": [
      "[0. 0. 0. 0. 0. 1. 0. 0. 0. 0.]\n"
     ]
    },
    {
     "data": {
      "image/png": "[encoded data removed]",
      "text/plain": [
       "<matplotlib.figure.Figure at 0x1eccf5e7a20>"
      ]
     },
     "metadata": {},
     "output_type": "display_data"
    },
    {
     "name": "stdout",
     "output_type": "stream",
     "text": [
      "[0. 0. 1. 0. 0. 0. 0. 0. 0. 0.]\n"
     ]
    },
    {
     "data": {
      "image/png": "[encoded data removed]",
      "text/plain": [
       "<matplotlib.figure.Figure at 0x1eccf8f6898>"
      ]
     },
     "metadata": {},
     "output_type": "display_data"
    },
    {
     "name": "stdout",
     "output_type": "stream",
     "text": [
      "[0. 0. 0. 0. 0. 0. 0. 0. 1. 0.]\n"
     ]
    },
    {
     "data": {
      "image/png": "[encoded data removed]",
      "text/plain": [
       "<matplotlib.figure.Figure at 0x1eccfa09a58>"
      ]
     },
     "metadata": {},
     "output_type": "display_data"
    }
   ],
   "source": [
    "\n",
    "import matplotlib.pyplot as plt\n",
    "%matplotlib inline\n",
    "\n",
    "def display_sample(num):\n",
    "    #Print the one-hot array of this sample's label \n",
    "    print(train_labels[num]) #df_train_label_array\n",
    "    #Print the label converted back to a number\n",
    "    label = train_labels[num].argmax(axis=0) #df_train_label_array\n",
    "    #Reshape the 768 values to a 28x28 image\n",
    "    image = train_images[num].reshape([28,28])\n",
    "    #plt.subplot(4,4,i)\n",
    "    plt.title('Sample: %d  Label: %d' % (num, label))\n",
    "    plt.imshow(image, cmap=plt.get_cmap('gray_r'))\n",
    "    plt.show()\n",
    "    \n",
    "display_sample(1111) #the 1111st image in the Training set\n",
    "display_sample(2222) #the 2222nd image in the Training set\n",
    "display_sample(3333) #the 3333rd image in the Training set"
   ]
  },
  {
   "cell_type": "code",
   "execution_count": 10,
   "metadata": {
    "collapsed": true
   },
   "outputs": [],
   "source": [
    "model = Sequential()\n",
    "model.add(Dense(512, activation='relu', input_shape=(784,))) \n",
    "model.add(Dropout(0.5))\n",
    "model.add(Dense(512, activation='relu')) \n",
    "model.add(Dropout(0.5))\n",
    "model.add(Dense(10, activation='softmax'))"
   ]
  },
  {
   "cell_type": "code",
   "execution_count": 11,
   "metadata": {},
   "outputs": [
    {
     "name": "stdout",
     "output_type": "stream",
     "text": [
      "_________________________________________________________________\n",
      "Layer (type)                 Output Shape              Param #   \n",
      "=================================================================\n",
      "dense_1 (Dense)              (None, 512)               401920    \n",
      "_________________________________________________________________\n",
      "dropout_1 (Dropout)          (None, 512)               0         \n",
      "_________________________________________________________________\n",
      "dense_2 (Dense)              (None, 512)               262656    \n",
      "_________________________________________________________________\n",
      "dropout_2 (Dropout)          (None, 512)               0         \n",
      "_________________________________________________________________\n",
      "dense_3 (Dense)              (None, 10)                5130      \n",
      "=================================================================\n",
      "Total params: 669,706\n",
      "Trainable params: 669,706\n",
      "Non-trainable params: 0\n",
      "_________________________________________________________________\n"
     ]
    }
   ],
   "source": [
    "\n",
    "model.summary()"
   ]
  },
  {
   "cell_type": "code",
   "execution_count": 12,
   "metadata": {
    "collapsed": true
   },
   "outputs": [],
   "source": [
    "model.compile(loss='categorical_crossentropy',\n",
    "              optimizer=Adam(),\n",
    "              metrics=['accuracy'])"
   ]
  },
  {
   "cell_type": "code",
   "execution_count": 13,
   "metadata": {},
   "outputs": [
    {
     "name": "stdout",
     "output_type": "stream",
     "text": [
      "Train on 33600 samples, validate on 8400 samples\n",
      "Epoch 1/20\n",
      " - 27s - loss: 0.3906 - acc: 0.8773 - val_loss: 0.1758 - val_acc: 0.9450\n",
      "Epoch 2/20\n",
      " - 22s - loss: 0.1912 - acc: 0.9418 - val_loss: 0.1213 - val_acc: 0.9608\n",
      "Epoch 3/20\n",
      " - 22s - loss: 0.1578 - acc: 0.9517 - val_loss: 0.1037 - val_acc: 0.9683\n",
      "Epoch 4/20\n",
      " - 22s - loss: 0.1281 - acc: 0.9597 - val_loss: 0.1066 - val_acc: 0.9673\n",
      "Epoch 5/20\n",
      " - 23s - loss: 0.1151 - acc: 0.9640 - val_loss: 0.0966 - val_acc: 0.9707\n",
      "Epoch 6/20\n",
      " - 23s - loss: 0.1075 - acc: 0.9670 - val_loss: 0.0911 - val_acc: 0.9740\n",
      "Epoch 7/20\n",
      " - 22s - loss: 0.1022 - acc: 0.9673 - val_loss: 0.0894 - val_acc: 0.9730\n",
      "Epoch 8/20\n",
      " - 22s - loss: 0.0883 - acc: 0.9718 - val_loss: 0.0840 - val_acc: 0.9749\n",
      "Epoch 9/20\n",
      " - 22s - loss: 0.0858 - acc: 0.9730 - val_loss: 0.0924 - val_acc: 0.9736\n",
      "Epoch 10/20\n",
      " - 22s - loss: 0.0811 - acc: 0.9740 - val_loss: 0.0961 - val_acc: 0.9732\n",
      "Epoch 11/20\n",
      " - 22s - loss: 0.0799 - acc: 0.9742 - val_loss: 0.0923 - val_acc: 0.9749\n",
      "Epoch 12/20\n",
      " - 22s - loss: 0.0770 - acc: 0.9757 - val_loss: 0.0915 - val_acc: 0.9748\n",
      "Epoch 13/20\n",
      " - 22s - loss: 0.0749 - acc: 0.9767 - val_loss: 0.0877 - val_acc: 0.9760\n",
      "Epoch 14/20\n",
      " - 22s - loss: 0.0675 - acc: 0.9785 - val_loss: 0.0838 - val_acc: 0.9764\n",
      "Epoch 15/20\n",
      " - 22s - loss: 0.0677 - acc: 0.9791 - val_loss: 0.0876 - val_acc: 0.9762\n",
      "Epoch 16/20\n",
      " - 23s - loss: 0.0694 - acc: 0.9781 - val_loss: 0.0883 - val_acc: 0.9758\n",
      "Epoch 17/20\n",
      " - 24s - loss: 0.0586 - acc: 0.9813 - val_loss: 0.0842 - val_acc: 0.9779\n",
      "Epoch 18/20\n",
      " - 23s - loss: 0.0620 - acc: 0.9810 - val_loss: 0.0915 - val_acc: 0.9764\n",
      "Epoch 19/20\n",
      " - 22s - loss: 0.0669 - acc: 0.9802 - val_loss: 0.0906 - val_acc: 0.9771\n",
      "Epoch 20/20\n",
      " - 23s - loss: 0.0572 - acc: 0.9833 - val_loss: 0.0938 - val_acc: 0.9767\n"
     ]
    }
   ],
   "source": [
    "history = model.fit(train_images, train_labels,\n",
    "                    batch_size=50, \n",
    "                    epochs=20, \n",
    "                    verbose=2,\n",
    "                    validation_data=(test_images, test_labels))"
   ]
  },
  {
   "cell_type": "code",
   "execution_count": 14,
   "metadata": {},
   "outputs": [
    {
     "name": "stdout",
     "output_type": "stream",
     "text": [
      "Test loss: 0.09382469650919249\n",
      "Test accuracy: 0.9766666666666667\n"
     ]
    }
   ],
   "source": [
    "\n",
    "score = model.evaluate(test_images, test_labels, verbose=0)\n",
    "print('Test loss:', score[0])\n",
    "print('Test accuracy:', score[1])"
   ]
  },
  {
   "cell_type": "code",
   "execution_count": 15,
   "metadata": {
    "collapsed": true
   },
   "outputs": [],
   "source": [
    "\n",
    "predictions = model.predict_classes(df_test, verbose=0)\n",
    "\n",
    "submissions=pd.DataFrame({\"ImageId\": list(range(1,len(predictions)+1)),\n",
    "                         \"Label\": predictions})\n",
    "submissions.to_csv(\"DR.csv\", index=False, header=True)"
   ]
  },
  {
   "cell_type": "code",
   "execution_count": null,
   "metadata": {
    "collapsed": true
   },
   "outputs": [],
   "source": []
  }
 ],
 "metadata": {
  "kernelspec": {
   "display_name": "Python 3",
   "language": "python",
   "name": "python3"
  },
  "language_info": {
   "codemirror_mode": {
    "name": "ipython",
    "version": 3
   },
   "file_extension": ".py",
   "mimetype": "text/x-python",
   "name": "python",
   "nbconvert_exporter": "python",
   "pygments_lexer": "ipython3",
   "version": "3.6.3"
  }
 },
 "nbformat": 4,
 "nbformat_minor": 2
}
