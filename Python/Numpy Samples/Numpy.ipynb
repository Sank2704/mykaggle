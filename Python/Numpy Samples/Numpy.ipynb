{
 "nbformat": 4,
 "nbformat_minor": 2,
 "metadata": {
  "language_info": {
   "name": "python",
   "codemirror_mode": {
    "name": "ipython",
    "version": 3
   },
   "version": "3.7.4"
  },
  "orig_nbformat": 2,
  "file_extension": ".py",
  "mimetype": "text/x-python",
  "name": "python",
  "npconvert_exporter": "python",
  "pygments_lexer": "ipython3",
  "version": 3
 },
 "cells": [
  {
   "cell_type": "code",
   "execution_count": 1,
   "metadata": {},
   "outputs": [],
   "source": [
    "import numpy as np"
   ]
  },
  {
   "cell_type": "code",
   "execution_count": 2,
   "metadata": {},
   "outputs": [],
   "source": [
    "list = [1,2,3,4,5,6,7,8,9]\n",
    "arr = np.array(list)"
   ]
  },
  {
   "cell_type": "code",
   "execution_count": 6,
   "metadata": {},
   "outputs": [
    {
     "name": "stdout",
     "output_type": "stream",
     "text": "[1 2 3 4 5 6 7 8 9]\n<class 'numpy.ndarray'>\n"
    }
   ],
   "source": [
    "print(arr)\n",
    "print(type(arr))"
   ]
  },
  {
   "cell_type": "code",
   "execution_count": 7,
   "metadata": {},
   "outputs": [
    {
     "data": {
      "text/plain": "array([[0, 1, 2],\n       [3, 4, 5],\n       [6, 7, 8]])"
     },
     "execution_count": 7,
     "metadata": {},
     "output_type": "execute_result"
    }
   ],
   "source": [
    "list1= [[0,1,2],[3,4,5],[6,7,8]]\n",
    "arr1 = np.array(list1)\n",
    "arr1"
   ]
  },
  {
   "cell_type": "code",
   "execution_count": 8,
   "metadata": {},
   "outputs": [
    {
     "data": {
      "text/plain": "array([1., 2., 3., 4., 5., 6., 7., 8., 9.])"
     },
     "execution_count": 8,
     "metadata": {},
     "output_type": "execute_result"
    }
   ],
   "source": [
    "list = [1,2,3,4,5,6,7,8,9]\n",
    "arr = np.array(list,dtype='float')\n",
    "arr\n",
    "##Float type "
   ]
  },
  {
   "cell_type": "code",
   "execution_count": 9,
   "metadata": {},
   "outputs": [
    {
     "name": "stdout",
     "output_type": "stream",
     "text": "Shape:  (9,)\nDatatype:  float64\nSize:  9\nNum Dimensions:  1\n"
    }
   ],
   "source": [
    "print('Shape: ', arr.shape)\n",
    "# dtype\n",
    "print('Datatype: ', arr.dtype)\n",
    "# size\n",
    "print('Size: ', arr.size)\n",
    "# ndim\n",
    "print('Num Dimensions: ', arr.ndim)"
   ]
  },
  {
   "cell_type": "code",
   "execution_count": 10,
   "metadata": {},
   "outputs": [
    {
     "name": "stdout",
     "output_type": "stream",
     "text": "Mean value is:  5.0\nMax value is:  9.0\nMin value is:  1.0\n"
    }
   ],
   "source": [
    "# mean, max and min\n",
    "print(\"Mean value is: \", arr.mean())\n",
    "print(\"Max value is: \", arr.max())\n",
    "print(\"Min value is: \", arr.min())"
   ]
  },
  {
   "cell_type": "code",
   "execution_count": 15,
   "metadata": {},
   "outputs": [
    {
     "data": {
      "text/plain": "array([[100,   1],\n       [  3,   4]])"
     },
     "execution_count": 15,
     "metadata": {},
     "output_type": "execute_result"
    }
   ],
   "source": [
    "#New array from existing array\n",
    "arr2 = arr1[:1,:1]  \n",
    "arr2[:1, :1] = 100  # 100 will reflect in arr2\n",
    "arr2"
   ]
  },
  {
   "cell_type": "code",
   "execution_count": 18,
   "metadata": {},
   "outputs": [],
   "source": [
    "## index locations that satisfy a given condition\n",
    "newarr = np.array([8, 8, 3, 7, 7, 0, 4, 2, 5, 2])"
   ]
  },
  {
   "cell_type": "code",
   "execution_count": 22,
   "metadata": {},
   "outputs": [
    {
     "name": "stdout",
     "output_type": "stream",
     "text": "Positions where value > 5:  (array([0, 1, 3, 4], dtype=int64),)\n"
    }
   ],
   "source": [
    "# Positions where value > 5\n",
    "pos = np.where(newarr > 5)\n",
    "print(\"Positions where value > 5: \", pos)"
   ]
  },
  {
   "cell_type": "code",
   "execution_count": 26,
   "metadata": {},
   "outputs": [
    {
     "data": {
      "text/plain": "numpy.datetime64('2018-02-04T23:10:10')"
     },
     "execution_count": 26,
     "metadata": {},
     "output_type": "execute_result"
    }
   ],
   "source": [
    "date = np.datetime64('2018-02-04 23:10:10')\n",
    "date"
   ]
  },
  {
   "cell_type": "code",
   "execution_count": 27,
   "metadata": {},
   "outputs": [
    {
     "data": {
      "text/plain": "numpy.datetime64('2018-02-04')"
     },
     "execution_count": 27,
     "metadata": {},
     "output_type": "execute_result"
    }
   ],
   "source": [
    "dt = np.datetime64(date, 'D')\n",
    "dt"
   ]
  },
  {
   "cell_type": "code",
   "execution_count": 30,
   "metadata": {},
   "outputs": [
    {
     "name": "stdout",
     "output_type": "stream",
     "text": "2018-02-04T23:10\n2018-02-04T23:10:10\n2018-02-04T23:10:10.000000000\n"
    }
   ],
   "source": [
    "m = np.datetime64(date, 'm')\n",
    "s = np.datetime64(date, 's')\n",
    "ns = np.datetime64(date, 'ns')\n",
    "\n",
    "print(m)\n",
    "print(s)\n",
    "print(ns)"
   ]
  },
  {
   "cell_type": "code",
   "execution_count": null,
   "metadata": {},
   "outputs": [],
   "source": []
  }
 ]
}